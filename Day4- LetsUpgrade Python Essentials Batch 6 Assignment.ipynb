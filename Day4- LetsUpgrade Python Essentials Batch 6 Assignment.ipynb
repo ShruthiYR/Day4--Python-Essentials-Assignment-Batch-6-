{
 "cells": [
  {
   "cell_type": "code",
   "execution_count": 11,
   "metadata": {},
   "outputs": [
    {
     "name": "stdout",
     "output_type": "stream",
     "text": [
      "Enter substring to search: we\n",
      "The letter we is present at index:5\n",
      "The letter we is present at index:14\n",
      "The letter we is present at index:25\n",
      "The number of occurrences:  3\n"
     ]
    }
   ],
   "source": [
    "str1=\"what we think we become, we are Python Programmer\"\n",
    "s=input(\"Enter substring to search: \")\n",
    "i=str1.find(s)\n",
    "if i==-1:\n",
    "    print(\"Specified Substring not found\")\n",
    "c=0\n",
    "while i!= -1:\n",
    "    c=c+1\n",
    "    print(\"The letter {} is present at index:{}\".format(s,i))\n",
    "    i=str1.find(s,i+len(s),len(str1)) \n",
    "print(\"The number of occurrences: \",c)"
   ]
  },
  {
   "cell_type": "code",
   "execution_count": 12,
   "metadata": {},
   "outputs": [
    {
     "name": "stdout",
     "output_type": "stream",
     "text": [
      "Enter substring to search: se\n",
      "Specified Substring not found\n",
      "The number of occurrences:  0\n"
     ]
    }
   ],
   "source": [
    "str1=\"what we think we become, we are Python Programmer\"\n",
    "s=input(\"Enter substring to search: \")\n",
    "i=str1.find(s)\n",
    "if i==-1:\n",
    "    print(\"Specified Substring not found\")\n",
    "c=0\n",
    "while i!= -1:\n",
    "    c=c+1\n",
    "    print(\" The letter {} is present at index:{}\".format(s,i))\n",
    "    i=str1.find(s,i+len(s),len(str1)) \n",
    "print(\"The number of occurrences: \",c)"
   ]
  },
  {
   "cell_type": "code",
   "execution_count": 17,
   "metadata": {},
   "outputs": [
    {
     "data": {
      "text/plain": [
       "False"
      ]
     },
     "execution_count": 17,
     "metadata": {},
     "output_type": "execute_result"
    }
   ],
   "source": [
    "str2= \"LetsUpgrade Python Essentials\"\n",
    "str2.islower()"
   ]
  },
  {
   "cell_type": "code",
   "execution_count": 18,
   "metadata": {},
   "outputs": [
    {
     "data": {
      "text/plain": [
       "False"
      ]
     },
     "execution_count": 18,
     "metadata": {},
     "output_type": "execute_result"
    }
   ],
   "source": [
    "str3=\"LETSUPGRADE\"\n",
    "str3.islower()"
   ]
  },
  {
   "cell_type": "code",
   "execution_count": 20,
   "metadata": {},
   "outputs": [
    {
     "data": {
      "text/plain": [
       "True"
      ]
     },
     "execution_count": 20,
     "metadata": {},
     "output_type": "execute_result"
    }
   ],
   "source": [
    "str4=\"letsupgrade\"\n",
    "str4.islower()"
   ]
  },
  {
   "cell_type": "code",
   "execution_count": 21,
   "metadata": {},
   "outputs": [
    {
     "data": {
      "text/plain": [
       "True"
      ]
     },
     "execution_count": 21,
     "metadata": {},
     "output_type": "execute_result"
    }
   ],
   "source": [
    "str5=\"letsupgrade123\"\n",
    "str5.islower()"
   ]
  },
  {
   "cell_type": "code",
   "execution_count": 22,
   "metadata": {},
   "outputs": [
    {
     "data": {
      "text/plain": [
       "False"
      ]
     },
     "execution_count": 22,
     "metadata": {},
     "output_type": "execute_result"
    }
   ],
   "source": [
    "str6=\"LetsUpgrade Python Essentials\"\n",
    "str6.isupper()"
   ]
  },
  {
   "cell_type": "code",
   "execution_count": 24,
   "metadata": {},
   "outputs": [
    {
     "data": {
      "text/plain": [
       "True"
      ]
     },
     "execution_count": 24,
     "metadata": {},
     "output_type": "execute_result"
    }
   ],
   "source": [
    "str7=\"LETSUPGRADE\"\n",
    "str7.isupper()"
   ]
  },
  {
   "cell_type": "code",
   "execution_count": 25,
   "metadata": {},
   "outputs": [
    {
     "data": {
      "text/plain": [
       "False"
      ]
     },
     "execution_count": 25,
     "metadata": {},
     "output_type": "execute_result"
    }
   ],
   "source": [
    "str8=\"letsupgrade\"\n",
    "str8.isupper()"
   ]
  },
  {
   "cell_type": "code",
   "execution_count": 26,
   "metadata": {},
   "outputs": [
    {
     "data": {
      "text/plain": [
       "False"
      ]
     },
     "execution_count": 26,
     "metadata": {},
     "output_type": "execute_result"
    }
   ],
   "source": [
    "str9=\"letsupgrade123\"\n",
    "str9.isupper()"
   ]
  },
  {
   "cell_type": "markdown",
   "metadata": {},
   "source": []
  },
  {
   "cell_type": "code",
   "execution_count": null,
   "metadata": {},
   "outputs": [],
   "source": []
  }
 ],
 "metadata": {
  "kernelspec": {
   "display_name": "Python 3",
   "language": "python",
   "name": "python3"
  },
  "language_info": {
   "codemirror_mode": {
    "name": "ipython",
    "version": 3
   },
   "file_extension": ".py",
   "mimetype": "text/x-python",
   "name": "python",
   "nbconvert_exporter": "python",
   "pygments_lexer": "ipython3",
   "version": "3.7.6"
  }
 },
 "nbformat": 4,
 "nbformat_minor": 4
}
